{
 "cells": [
  {
   "cell_type": "code",
   "execution_count": 1,
   "metadata": {},
   "outputs": [],
   "source": [
    "import pandas as pd\n",
    "import random\n",
    "\n",
    "file = \"Log_Problem.csv\"\n",
    "n = sum(1 for line in open(file)) - 1\n",
    "s = 810866\n",
    "skip = sorted(random.sample(range(1,n+1),n-s))\n",
    "df = pd.read_csv(file, skiprows=skip)\n",
    "\n",
    "user = pd.read_csv(\"Info_UserData.csv\")\n",
    "con = pd.read_csv(\"Info_Content.csv\")\n",
    "\n",
    "user_log = pd.merge(df, user, on='uuid', how='inner', validate=\"m:1\")\n",
    "full_sample = pd.merge(user_log, con, on=\"ucid\", how=\"inner\", validate=\"m:1\")"
   ]
  },
  {
   "cell_type": "code",
   "execution_count": 2,
   "metadata": {},
   "outputs": [],
   "source": [
    "full_sample[\"timestamp_TW\"] = pd.to_datetime(full_sample[\"timestamp_TW\"], infer_datetime_format=True)\n",
    "\n",
    "train = full_sample[full_sample[\"timestamp_TW\"] < \"2019-01-01 00:00:00\"]\n",
    "val = full_sample[(full_sample[\"timestamp_TW\"] >= \"2019-01-01 00:00:00\") & \n",
    "                  (full_sample[\"timestamp_TW\"] < \"2019-05-01 00:00:00\")]\n",
    "test = full_sample[full_sample[\"timestamp_TW\"] >= \"2019-05-01 00:00:00\"]"
   ]
  },
  {
   "cell_type": "code",
   "execution_count": 3,
   "metadata": {},
   "outputs": [],
   "source": [
    "import numpy as np\n",
    "\n",
    "def wrangle(X):\n",
    "    \n",
    "    X = X.copy()\n",
    "    \n",
    "    X = X.replace({False : 0, True : 1})\n",
    "    \n",
    "    nan_cols = [\"is_downgrade\"]\n",
    "    for col in nan_cols:\n",
    "        X[col] = X[col].replace(np.nan, 0)\n",
    "        \n",
    "# This chunk of code is derived from the permutation_importance done below. There are approximately 3-4 valuable features\n",
    "# in this DF, so all but those few will be dropped.\n",
    "    \n",
    "    star_features = [\"total_attempt_cnt\", \"used_hint_cnt\", \"badges_cnt\",\n",
    "                     \"points\", \"is_downgrade\", \"is_correct\"]\n",
    "    X = X[star_features]\n",
    "    \n",
    "    return X\n",
    "\n",
    "train2 = wrangle(train)\n",
    "val2 = wrangle(val)\n",
    "test2 = wrangle(test)\n",
    "\n",
    "target = \"is_correct\"\n",
    "\n",
    "X_train2 = train2.drop([target], axis=1)\n",
    "y_train2 = train2[target]\n",
    "X_val2 = val2.drop([target], axis=1)\n",
    "y_val2 = val2[target]\n",
    "X_test2 = test2.drop([target], axis=1)"
   ]
  },
  {
   "cell_type": "code",
   "execution_count": 4,
   "metadata": {
    "scrolled": true
   },
   "outputs": [],
   "source": [
    "import category_encoders as ce\n",
    "from sklearn.pipeline import make_pipeline\n",
    "from sklearn.impute import SimpleImputer\n",
    "from sklearn.preprocessing import StandardScaler\n",
    "from sklearn.ensemble import RandomForestClassifier\n",
    "\n",
    "\n",
    "rick = make_pipeline(\n",
    "    ce.TargetEncoder(),\n",
    "    SimpleImputer(strategy=\"most_frequent\"),\n",
    "    StandardScaler(),\n",
    "    RandomForestClassifier(max_depth=25, criterion=\"entropy\",\n",
    "                           n_jobs=1, random_state=45,\n",
    "                           min_samples_split=25))\n",
    "\n",
    "rick.fit(X_train2, y_train2);"
   ]
  },
  {
   "cell_type": "code",
   "execution_count": 5,
   "metadata": {},
   "outputs": [
    {
     "data": {
      "image/png": "[encoded data removed]",
      "text/plain": [
       "<Figure size 432x288 with 2 Axes>"
      ]
     },
     "metadata": {
      "needs_background": "light"
     },
     "output_type": "display_data"
    }
   ],
   "source": [
    "from sklearn.metrics import plot_confusion_matrix\n",
    "\n",
    "plot_confusion_matrix(rick, X_val2, y_val2,\n",
    "                      values_format='.0f', xticks_rotation='vertical');"
   ]
  },
  {
   "cell_type": "code",
   "execution_count": 6,
   "metadata": {},
   "outputs": [
    {
     "data": {
      "text/plain": [
       "Text(0, 0.5, 'True Positive Rate')"
      ]
     },
     "execution_count": 6,
     "metadata": {},
     "output_type": "execute_result"
    },
    {
     "data": {
      "image/png": "[encoded data removed]",
      "text/plain": [
       "<Figure size 432x288 with 1 Axes>"
      ]
     },
     "metadata": {
      "needs_background": "light"
     },
     "output_type": "display_data"
    }
   ],
   "source": [
    "%matplotlib inline\n",
    "\n",
    "from sklearn.metrics import roc_auc_score, roc_curve\n",
    "import matplotlib.pyplot as plt\n",
    "\n",
    "y_p_p = rick.predict_proba(X_val2)[:, -1]\n",
    "fpr3, tpr3, thresholds3 = roc_curve(y_val2, y_p_p)\n",
    "\n",
    "plt.plot(fpr3, tpr3)\n",
    "plt.xlabel(\"False Positive Rate\")\n",
    "plt.ylabel(\"True Positive Rate\")"
   ]
  },
  {
   "cell_type": "code",
   "execution_count": 7,
   "metadata": {},
   "outputs": [
    {
     "data": {
      "image/png": "[encoded data removed]",
      "text/plain": [
       "<Figure size 216x180 with 1 Axes>"
      ]
     },
     "metadata": {
      "needs_background": "light"
     },
     "output_type": "display_data"
    }
   ],
   "source": [
    "search_feature = rick.named_steps[\"randomforestclassifier\"]\n",
    "importances = pd.Series(search_feature.feature_importances_, X_train2.columns)\n",
    "\n",
    "n = 5\n",
    "plt.figure(figsize=(3,n/2))\n",
    "plt.title(f\"Top {n} features\")\n",
    "importances.sort_values()[-n:].plot.barh(color=\"orange\");"
   ]
  },
  {
   "cell_type": "code",
   "execution_count": null,
   "metadata": {},
   "outputs": [],
   "source": []
  }
 ],
 "metadata": {
  "kernelspec": {
   "display_name": "Python 3",
   "language": "python",
   "name": "python3"
  },
  "language_info": {
   "codemirror_mode": {
    "name": "ipython",
    "version": 3
   },
   "file_extension": ".py",
   "mimetype": "text/x-python",
   "name": "python",
   "nbconvert_exporter": "python",
   "pygments_lexer": "ipython3",
   "version": "3.7.6"
  }
 },
 "nbformat": 4,
 "nbformat_minor": 1
}
